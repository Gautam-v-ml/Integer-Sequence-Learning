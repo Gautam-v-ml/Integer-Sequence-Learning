{
 "cells": [
  {
   "cell_type": "code",
   "execution_count": 1,
   "metadata": {
    "collapsed": true
   },
   "outputs": [],
   "source": [
    "import pandas as pd\n",
    "import numpy as np\n",
    "import time\n",
    "t0=time.time()\n",
    "\n",
    "trainfile='F:/Kaggle/Integer Sequence Learning/train.csv'\n",
    "testfile='F:/Kaggle/Integer Sequence Learning/test.csv'"
   ]
  },
  {
   "cell_type": "code",
   "execution_count": 3,
   "metadata": {
    "collapsed": true
   },
   "outputs": [],
   "source": [
    "train_df= pd.read_csv(trainfile, index_col=\"Id\")\n",
    "test_df = pd.read_csv(testfile, index_col=\"Id\")"
   ]
  },
  {
   "cell_type": "code",
   "execution_count": 4,
   "metadata": {
    "collapsed": false
   },
   "outputs": [
    {
     "name": "stdout",
     "output_type": "stream",
     "text": [
      "Time Elapsed:  59.86 seconds\n"
     ]
    }
   ],
   "source": [
    "train_seqs= train_df['Sequence'].to_dict()\n",
    "test_seqs= test_df['Sequence'].to_dict()\n",
    "\n",
    "for key in train_seqs:\n",
    "    seq=train_seqs[key]\n",
    "    seq=[int(x) for x in seq.split(',')]\n",
    "    train_seqs[key]=seq\n",
    "\n",
    "for key in test_seqs:\n",
    "    seq=test_seqs[key]\n",
    "    seq=[int(x) for x in seq.split(',')]\n",
    "    test_seqs[key]=seq\n",
    "\n",
    "MIN_LENGTH = 10  #Ignore sequences with length<10\n",
    "\n",
    "print (\"Time Elapsed:  %.2f seconds\" %(time.time()-t0))"
   ]
  },
  {
   "cell_type": "code",
   "execution_count": 5,
   "metadata": {
    "collapsed": true
   },
   "outputs": [],
   "source": [
    "import math\n",
    "def findGCD(seq):\n",
    "    \"\"\" Compute the greatest common divisor of a list of numbers. \"\"\"\n",
    "    gcd = seq[0]\n",
    "    for i in range(1,len(seq)):\n",
    "        #gcd=fractions.gcd(gcd, seq[i])\n",
    "        gcd=math.gcd(gcd, seq[i])\n",
    "    return gcd"
   ]
  },
  {
   "cell_type": "code",
   "execution_count": 6,
   "metadata": {
    "collapsed": true
   },
   "outputs": [],
   "source": [
    "def findSignature(seq, n = MIN_LENGTH):\n",
    "\n",
    "    if len(seq)<n:\n",
    "        return tuple([])\n",
    "    \n",
    "    difference = [seq[i]-seq[i-1] for i in range(1,n)]\n",
    "    nonzero_difference = [d for d in difference if d!=0]\n",
    "    if len(nonzero_difference)==0:\n",
    "        return tuple([0]*(n-1))\n",
    "    else:\n",
    "        sign = 1 if nonzero_difference[0]>0 else -1\n",
    "        \n",
    "    gcd = findGCD(difference)\n",
    "    return tuple([sign*x/gcd for x in difference])"
   ]
  },
  {
   "cell_type": "code",
   "execution_count": 7,
   "metadata": {
    "collapsed": true
   },
   "outputs": [],
   "source": [
    "def findLine(x,y, n, requireInteger=True, useNumpy=False):  \n",
    "  \n",
    "    x0 = x[0]\n",
    "    i = 1\n",
    "    while(i<n-1 and x[i]==x[0]):\n",
    "        i+=1\n",
    "    x1=x[i]\n",
    "    if x1==x0:\n",
    "        return None\n",
    "    else:\n",
    "        y0,y1 = y[0],y[i]\n",
    "    m = 1.0*(y1-y0)/(x1-x0)\n",
    "    b = y[0]-m*x[0]\n",
    "    \n",
    "    # Check if m,b are integers\n",
    "    if requireInteger:\n",
    "        m_int = int(round(m))\n",
    "        b_int = int(round(b))\n",
    "        if abs(m-m_int)>10**(-2) or abs(b-b_int)>10**(-2):\n",
    "            return None\n",
    "        else:\n",
    "            m, b = m_int, b_int\n",
    "    \n",
    "    # Check if the next points satisfty y=mx+b\n",
    "    if useNumpy:\n",
    "        y_predict = m*np.array(x)+b\n",
    "        difference = np.abs(np.array(y[0:n])-y_predict)\n",
    "        error = np.max(difference)   \n",
    "    else:\n",
    "        y_predict = [m*x[i]+b for i in range(n)]\n",
    "        difference = [abs(y[i]-y_predict[i]) for i in range(n)]\n",
    "        error = max(difference)\n",
    "        \n",
    "    if error<10**(-2):\n",
    "        return [m,b]"
   ]
  },
  {
   "cell_type": "code",
   "execution_count": 8,
   "metadata": {
    "collapsed": false
   },
   "outputs": [
    {
     "name": "stdout",
     "output_type": "stream",
     "text": [
      "Time Elapsed: 4 seconds\n"
     ]
    }
   ],
   "source": [
    "import time\n",
    "t1= time.time()\n",
    "\n",
    "\n",
    "# Compute signatures using the first 10 elements.\n",
    "minlength = MIN_LENGTH\n",
    "train_df['Signature'] = [findSignature(train_seqs[id][:minlength], minlength) for id in train_df.index]\n",
    "test_df['Signature'] = [findSignature(test_seqs[id][:minlength], minlength) for id in test_df.index]\n",
    "\n",
    "# Group data frames by signatures\n",
    "train_gb = train_df.groupby(['Signature'], sort=True)\n",
    "test_gb = test_df.groupby(['Signature'], sort=True)\n",
    "\n",
    "# Find signatures that appear in both train/test sets\n",
    "commonSignatures = list(set(test_gb.groups.keys()).intersection(train_gb.groups.keys()))\n",
    "commonSignatures.remove(tuple([]))\n",
    "\n",
    "print (\"Time Elapsed: %.0f seconds\" %(time.time()-t1))"
   ]
  },
  {
   "cell_type": "code",
   "execution_count": 9,
   "metadata": {
    "collapsed": false
   },
   "outputs": [
    {
     "name": "stdout",
     "output_type": "stream",
     "text": [
      "Time Elapsed: 49 seconds\n"
     ]
    }
   ],
   "source": [
    "result={}\n",
    "import time\n",
    "t0=time.time()\n",
    "\n",
    "for signature in commonSignatures:\n",
    "    for test_id in test_gb.groups[signature]:\n",
    "        test_seq = test_seqs[test_id]\n",
    "        n = len(test_seq)\n",
    "        train_candidates = train_gb.groups.get(signature)\n",
    "\n",
    "        for train_id in train_candidates:\n",
    "            train_seq=train_seqs[train_id]\n",
    "            if len(train_seq)<=n: # too short to  make prediction\n",
    "                continue\n",
    "             \n",
    "            # Check if train = m*test + b\n",
    "            line = findLine(train_seq,test_seq, n)  \n",
    "            if line:\n",
    "                [m,b] = line\n",
    "                predict = str(m*train_seq[n]+b)\n",
    "                result[test_id] = (train_id, [m,b], '(train,test)', predict)\n",
    "                break\n",
    "            \n",
    "            # Check if test = m*train + b\n",
    "            line = findLine(test_seq,train_seq, n)\n",
    "            if line:\n",
    "                [m,b] = line\n",
    "                if m!=0:\n",
    "                    predict = str((train_seq[n]-b)/m)\n",
    "                    result[test_id] = (train_id, [m,b], '(test,train)', predict)\n",
    "                    break\n",
    "print (\"Time Elapsed: %.0f seconds\" %(time.time()-t0))"
   ]
  },
  {
   "cell_type": "code",
   "execution_count": 10,
   "metadata": {
    "collapsed": false
   },
   "outputs": [
    {
     "name": "stdout",
     "output_type": "stream",
     "text": [
      "Sample output, rows 25-30: \n"
     ]
    },
    {
     "data": {
      "text/html": [
       "<div>\n",
       "<table border=\"1\" class=\"dataframe\">\n",
       "  <thead>\n",
       "    <tr style=\"text-align: right;\">\n",
       "      <th></th>\n",
       "      <th>TrainID</th>\n",
       "      <th>[m,b]</th>\n",
       "      <th>(x,y)</th>\n",
       "      <th>Prediction</th>\n",
       "    </tr>\n",
       "    <tr>\n",
       "      <th>TestID</th>\n",
       "      <th></th>\n",
       "      <th></th>\n",
       "      <th></th>\n",
       "      <th></th>\n",
       "    </tr>\n",
       "  </thead>\n",
       "  <tbody>\n",
       "    <tr>\n",
       "      <th>1692</th>\n",
       "      <td>37421</td>\n",
       "      <td>[1, 2]</td>\n",
       "      <td>(train,test)</td>\n",
       "      <td>191</td>\n",
       "    </tr>\n",
       "    <tr>\n",
       "      <th>1741</th>\n",
       "      <td>35169</td>\n",
       "      <td>[1, 0]</td>\n",
       "      <td>(train,test)</td>\n",
       "      <td>0</td>\n",
       "    </tr>\n",
       "    <tr>\n",
       "      <th>1747</th>\n",
       "      <td>174332</td>\n",
       "      <td>[4, 1]</td>\n",
       "      <td>(train,test)</td>\n",
       "      <td>1621</td>\n",
       "    </tr>\n",
       "    <tr>\n",
       "      <th>1783</th>\n",
       "      <td>195755</td>\n",
       "      <td>[8, 9]</td>\n",
       "      <td>(train,test)</td>\n",
       "      <td>505</td>\n",
       "    </tr>\n",
       "    <tr>\n",
       "      <th>1791</th>\n",
       "      <td>223099</td>\n",
       "      <td>[1, -1]</td>\n",
       "      <td>(train,test)</td>\n",
       "      <td>82</td>\n",
       "    </tr>\n",
       "  </tbody>\n",
       "</table>\n",
       "</div>"
      ],
      "text/plain": [
       "        TrainID    [m,b]         (x,y) Prediction\n",
       "TestID                                           \n",
       "1692      37421   [1, 2]  (train,test)        191\n",
       "1741      35169   [1, 0]  (train,test)          0\n",
       "1747     174332   [4, 1]  (train,test)       1621\n",
       "1783     195755   [8, 9]  (train,test)        505\n",
       "1791     223099  [1, -1]  (train,test)         82"
      ]
     },
     "execution_count": 10,
     "metadata": {},
     "output_type": "execute_result"
    }
   ],
   "source": [
    "match_df = pd.DataFrame.from_dict(result, orient='index', dtype=None)\n",
    "match_df.columns=['TrainID', '[m,b]','(x,y)', 'Prediction']\n",
    "match_df.index.name=\"TestID\"\n",
    "match_df=match_df.sort_index()\n",
    "\n",
    "match_df.to_csv(\"matchPairs.csv\")\n",
    "print (\"Sample output, rows 25-30: \")\n",
    "match_df[25:30]"
   ]
  },
  {
   "cell_type": "code",
   "execution_count": 11,
   "metadata": {
    "collapsed": false
   },
   "outputs": [
    {
     "name": "stdout",
     "output_type": "stream",
     "text": [
      "Test Sequence #1692:  [3, 4, 6, 8, 11, 14, 18, 21, 27, 29, 34, 36, 42, 44, 46, 50, 53, 58, 61, 65, 70, 82, 84, 90, 99, 105, 110, 114, 117, 121, 141, 143, 145, 149, 153, 172, 174, 177, 179, 183] \n",
      "\n",
      "Train Sequence #37421:  [1, 2, 4, 6, 9, 12, 16, 19, 25, 27, 32, 34, 40, 42, 44, 48, 51, 56, 59, 63, 68, 80, 82, 88, 97, 103, 108, 112, 115, 119, 139, 141, 143, 147, 151, 170, 172, 175, 177, 181, 189, 200, 205, 208, 211, 214, 224, 229, 233, 235, 252, 255, 261, 264, 267, 276, 285, 287, 293, 295, 301]\n"
     ]
    }
   ],
   "source": [
    "print (\"Test Sequence #1692: \", (test_seqs[1692]), \"\\n\")\n",
    "print (\"Train Sequence #37421: \", (train_seqs[37421]))"
   ]
  },
  {
   "cell_type": "code",
   "execution_count": 12,
   "metadata": {
    "collapsed": false
   },
   "outputs": [
    {
     "name": "stdout",
     "output_type": "stream",
     "text": [
      "Conclusion: \n",
      "\n",
      "Number of test sequences: 113845\n",
      "Number of matches found: 4579   (4.02% of the test set)\n"
     ]
    }
   ],
   "source": [
    "print (\"Conclusion: \\n\")\n",
    "print (\"Number of test sequences: %s\" %len(test_seqs))\n",
    "print (\"Number of matches found: %s   (%.2f%% of the test set)\" %(len(match_df) , 100.0*len(match_df)/len(test_seqs)))"
   ]
  },
  {
   "cell_type": "code",
   "execution_count": null,
   "metadata": {
    "collapsed": true
   },
   "outputs": [],
   "source": []
  }
 ],
 "metadata": {
  "anaconda-cloud": {},
  "kernelspec": {
   "display_name": "Python [Root]",
   "language": "python",
   "name": "Python [Root]"
  },
  "language_info": {
   "codemirror_mode": {
    "name": "ipython",
    "version": 3
   },
   "file_extension": ".py",
   "mimetype": "text/x-python",
   "name": "python",
   "nbconvert_exporter": "python",
   "pygments_lexer": "ipython3",
   "version": "3.5.2"
  }
 },
 "nbformat": 4,
 "nbformat_minor": 0
}
